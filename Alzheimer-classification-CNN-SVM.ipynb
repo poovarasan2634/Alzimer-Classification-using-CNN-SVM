{
 "cells": [
  {
   "cell_type": "code",
   "execution_count": 1,
   "metadata": {},
   "outputs": [],
   "source": [
    "import tensorflow as tf\n",
    "from tensorflow.keras.models import Sequential\n",
    "from tensorflow.keras.layers import Conv2D, MaxPooling2D, Flatten, Dense\n",
    "from tensorflow.keras.preprocessing.image import ImageDataGenerator\n",
    "from sklearn.model_selection import train_test_split\n",
    "import numpy as np\n",
    "import matplotlib.pyplot as plt\n",
    "from collections import Counter\n",
    "from sklearn.svm import SVC\n",
    "import joblib"
   ]
  },
  {
   "cell_type": "code",
   "execution_count": 2,
   "metadata": {},
   "outputs": [],
   "source": [
    "# Set Path Here\n",
    "WORKING_DIRECTORY = r\"F:\\medical_images\\alzeimer\"\n",
    "CLASSES = ['Mild_Demented', 'Moderate_Demented', 'Non_Demented', 'Very_Mild_Demented']"
   ]
  },
  {
   "cell_type": "code",
   "execution_count": 3,
   "metadata": {},
   "outputs": [
    {
     "name": "stdout",
     "output_type": "stream",
     "text": [
      "Found 6400 images belonging to 4 classes.\n"
     ]
    }
   ],
   "source": [
    "# Data preparation\n",
    "datagen = ImageDataGenerator(rescale=1.0/255.0)\n",
    "train_dataset = datagen.flow_from_directory(WORKING_DIRECTORY, target_size=(150, 150),\n",
    "                                            batch_size=6400, shuffle=True)"
   ]
  },
  {
   "cell_type": "code",
   "execution_count": 4,
   "metadata": {},
   "outputs": [],
   "source": [
    "# Separate data and labels\n",
    "X, y = train_dataset.next()\n",
    "X_train, X_temp, y_train, y_temp = train_test_split(X, y, test_size=0.3, random_state=42)\n",
    "X_val, X_test, y_val, y_test = train_test_split(X_temp, y_temp, test_size=0.2, random_state=42)"
   ]
  },
  {
   "cell_type": "code",
   "execution_count": 5,
   "metadata": {},
   "outputs": [
    {
     "name": "stdout",
     "output_type": "stream",
     "text": [
      "Number of samples after splitting into Training, validation & test set\n",
      "\n",
      "Train     \t [(0, 623), (1, 47), (2, 2240), (3, 1570)]\n",
      "Validation\t [(0, 224), (1, 14), (2, 773), (3, 525)]\n",
      "Test      \t [(0, 49), (1, 3), (2, 187), (3, 145)]\n",
      "Number of samples in each class:\t [(0, 896), (1, 64), (2, 3200), (3, 2240)]\n",
      "Classes Names according to index:\t {'Mild_Demented': 0, 'Moderate_Demented': 1, 'Non_Demented': 2, 'Very_Mild_Demented': 3}\n",
      "X_train shape: (4480, 150, 150, 3)\n",
      "y_train shape: (4480, 4)\n",
      "X_test shape: (384, 150, 150, 3)\n",
      "y_test shape: (384, 4)\n"
     ]
    }
   ],
   "source": [
    "# Print dataset info\n",
    "print(\"Number of samples after splitting into Training, validation & test set\\n\")\n",
    "print(\"Train     \\t\", sorted(Counter(np.argmax(y_train, axis=1)).items()))\n",
    "print(\"Validation\\t\", sorted(Counter(np.argmax(y_val, axis=1)).items()))\n",
    "print(\"Test      \\t\", sorted(Counter(np.argmax(y_test, axis=1)).items()))\n",
    "print(\"Number of samples in each class:\\t\", sorted(Counter(np.argmax(y, axis=1)).items()))\n",
    "print(\"Classes Names according to index:\\t\", train_dataset.class_indices)\n",
    "print(\"X_train shape:\", X_train.shape)\n",
    "print(\"y_train shape:\", y_train.shape)\n",
    "print(\"X_test shape:\", X_test.shape)\n",
    "print(\"y_test shape:\", y_test.shape)"
   ]
  },
  {
   "cell_type": "code",
   "execution_count": 6,
   "metadata": {},
   "outputs": [],
   "source": [
    "# Define the CNN model\n",
    "cnn_model = Sequential([\n",
    "    Conv2D(32, (3, 3), activation='relu', input_shape=(150, 150, 3)),\n",
    "    MaxPooling2D((2, 2)),\n",
    "    Conv2D(64, (3, 3), activation='relu'),\n",
    "    MaxPooling2D((2, 2)),\n",
    "    Conv2D(128, (3, 3), activation='relu'),\n",
    "    MaxPooling2D((2, 2)),\n",
    "    Flatten(),\n",
    "    Dense(512, activation='relu'),\n",
    "    Dense(len(CLASSES), activation='softmax')\n",
    "])"
   ]
  },
  {
   "cell_type": "code",
   "execution_count": 7,
   "metadata": {},
   "outputs": [],
   "source": [
    "cnn_model.compile(optimizer='adam', loss='categorical_crossentropy', metrics=['accuracy'])"
   ]
  },
  {
   "cell_type": "code",
   "execution_count": 8,
   "metadata": {},
   "outputs": [
    {
     "name": "stdout",
     "output_type": "stream",
     "text": [
      "Epoch 1/10\n",
      "140/140 [==============================] - 69s 478ms/step - loss: 1.0572 - accuracy: 0.5230 - val_loss: 0.8794 - val_accuracy: 0.5781\n",
      "Epoch 2/10\n",
      "140/140 [==============================] - 65s 461ms/step - loss: 0.8553 - accuracy: 0.6170 - val_loss: 0.8268 - val_accuracy: 0.6387\n",
      "Epoch 3/10\n",
      "140/140 [==============================] - 66s 471ms/step - loss: 0.6786 - accuracy: 0.6971 - val_loss: 0.5545 - val_accuracy: 0.7780\n",
      "Epoch 4/10\n",
      "140/140 [==============================] - 68s 484ms/step - loss: 0.4325 - accuracy: 0.8154 - val_loss: 0.3954 - val_accuracy: 0.8281\n",
      "Epoch 5/10\n",
      "140/140 [==============================] - 67s 475ms/step - loss: 0.2394 - accuracy: 0.9071 - val_loss: 0.2165 - val_accuracy: 0.9258\n",
      "Epoch 6/10\n",
      "140/140 [==============================] - 65s 464ms/step - loss: 0.1215 - accuracy: 0.9587 - val_loss: 0.1744 - val_accuracy: 0.9440\n",
      "Epoch 7/10\n",
      "140/140 [==============================] - 63s 451ms/step - loss: 0.0768 - accuracy: 0.9705 - val_loss: 0.3807 - val_accuracy: 0.8757\n",
      "Epoch 8/10\n",
      "140/140 [==============================] - 63s 453ms/step - loss: 0.0555 - accuracy: 0.9821 - val_loss: 0.1727 - val_accuracy: 0.9518\n",
      "Epoch 9/10\n",
      "140/140 [==============================] - 63s 451ms/step - loss: 0.0216 - accuracy: 0.9933 - val_loss: 0.2004 - val_accuracy: 0.9323\n",
      "Epoch 10/10\n",
      "140/140 [==============================] - 65s 461ms/step - loss: 0.0085 - accuracy: 0.9975 - val_loss: 0.1684 - val_accuracy: 0.9616\n"
     ]
    }
   ],
   "source": [
    "# Train the CNN model\n",
    "history = cnn_model.fit(X_train, y_train, epochs=10, validation_data=(X_val, y_val))"
   ]
  },
  {
   "cell_type": "code",
   "execution_count": 9,
   "metadata": {},
   "outputs": [
    {
     "name": "stdout",
     "output_type": "stream",
     "text": [
      "Training Accuracy:\n",
      "Final Training Accuracy: 99.75%\n",
      "Validation Accuracy:\n",
      "Final Validation Accuracy: 96.16%\n"
     ]
    }
   ],
   "source": [
    "# Print training accuracy\n",
    "print(\"Training Accuracy:\")\n",
    "print(\"Final Training Accuracy: {:.2f}%\".format(history.history['accuracy'][-1] * 100))\n",
    "\n",
    "# Print validation accuracy\n",
    "print(\"Validation Accuracy:\")\n",
    "print(\"Final Validation Accuracy: {:.2f}%\".format(history.history['val_accuracy'][-1] * 100))"
   ]
  },
  {
   "cell_type": "code",
   "execution_count": 10,
   "metadata": {},
   "outputs": [],
   "source": [
    "# Save the CNN model\n",
    "cnn_model.save(\"F:\\medical_images\\cnn-svm\\cnn_model.h5\")"
   ]
  },
  {
   "cell_type": "code",
   "execution_count": 14,
   "metadata": {},
   "outputs": [],
   "source": [
    "from tensorflow.keras.models import Model"
   ]
  },
  {
   "cell_type": "code",
   "execution_count": 15,
   "metadata": {},
   "outputs": [],
   "source": [
    "# Load the trained CNN model\n",
    "cnn_model = tf.keras.models.load_model(\"F:\\medical_images\\cnn-svm\\cnn_model.h5\")\n",
    "\n",
    "# Remove the last layer (softmax) to get feature vectors\n",
    "feature_extractor = Model(inputs=cnn_model.input, outputs=cnn_model.layers[-2].output)"
   ]
  },
  {
   "cell_type": "code",
   "execution_count": 16,
   "metadata": {},
   "outputs": [
    {
     "name": "stdout",
     "output_type": "stream",
     "text": [
      "140/140 [==============================] - 15s 105ms/step\n",
      "12/12 [==============================] - 2s 107ms/step\n"
     ]
    }
   ],
   "source": [
    "# Extract features for training and test data\n",
    "train_features = feature_extractor.predict(X_train)\n",
    "test_features = feature_extractor.predict(X_test)"
   ]
  },
  {
   "cell_type": "code",
   "execution_count": 17,
   "metadata": {},
   "outputs": [],
   "source": [
    "# Flatten the features\n",
    "train_features_flat = train_features.reshape((train_features.shape[0], -1))\n",
    "test_features_flat = test_features.reshape((test_features.shape[0], -1))"
   ]
  },
  {
   "cell_type": "code",
   "execution_count": 18,
   "metadata": {},
   "outputs": [
    {
     "data": {
      "text/html": [
       "<style>#sk-container-id-1 {color: black;}#sk-container-id-1 pre{padding: 0;}#sk-container-id-1 div.sk-toggleable {background-color: white;}#sk-container-id-1 label.sk-toggleable__label {cursor: pointer;display: block;width: 100%;margin-bottom: 0;padding: 0.3em;box-sizing: border-box;text-align: center;}#sk-container-id-1 label.sk-toggleable__label-arrow:before {content: \"▸\";float: left;margin-right: 0.25em;color: #696969;}#sk-container-id-1 label.sk-toggleable__label-arrow:hover:before {color: black;}#sk-container-id-1 div.sk-estimator:hover label.sk-toggleable__label-arrow:before {color: black;}#sk-container-id-1 div.sk-toggleable__content {max-height: 0;max-width: 0;overflow: hidden;text-align: left;background-color: #f0f8ff;}#sk-container-id-1 div.sk-toggleable__content pre {margin: 0.2em;color: black;border-radius: 0.25em;background-color: #f0f8ff;}#sk-container-id-1 input.sk-toggleable__control:checked~div.sk-toggleable__content {max-height: 200px;max-width: 100%;overflow: auto;}#sk-container-id-1 input.sk-toggleable__control:checked~label.sk-toggleable__label-arrow:before {content: \"▾\";}#sk-container-id-1 div.sk-estimator input.sk-toggleable__control:checked~label.sk-toggleable__label {background-color: #d4ebff;}#sk-container-id-1 div.sk-label input.sk-toggleable__control:checked~label.sk-toggleable__label {background-color: #d4ebff;}#sk-container-id-1 input.sk-hidden--visually {border: 0;clip: rect(1px 1px 1px 1px);clip: rect(1px, 1px, 1px, 1px);height: 1px;margin: -1px;overflow: hidden;padding: 0;position: absolute;width: 1px;}#sk-container-id-1 div.sk-estimator {font-family: monospace;background-color: #f0f8ff;border: 1px dotted black;border-radius: 0.25em;box-sizing: border-box;margin-bottom: 0.5em;}#sk-container-id-1 div.sk-estimator:hover {background-color: #d4ebff;}#sk-container-id-1 div.sk-parallel-item::after {content: \"\";width: 100%;border-bottom: 1px solid gray;flex-grow: 1;}#sk-container-id-1 div.sk-label:hover label.sk-toggleable__label {background-color: #d4ebff;}#sk-container-id-1 div.sk-serial::before {content: \"\";position: absolute;border-left: 1px solid gray;box-sizing: border-box;top: 0;bottom: 0;left: 50%;z-index: 0;}#sk-container-id-1 div.sk-serial {display: flex;flex-direction: column;align-items: center;background-color: white;padding-right: 0.2em;padding-left: 0.2em;position: relative;}#sk-container-id-1 div.sk-item {position: relative;z-index: 1;}#sk-container-id-1 div.sk-parallel {display: flex;align-items: stretch;justify-content: center;background-color: white;position: relative;}#sk-container-id-1 div.sk-item::before, #sk-container-id-1 div.sk-parallel-item::before {content: \"\";position: absolute;border-left: 1px solid gray;box-sizing: border-box;top: 0;bottom: 0;left: 50%;z-index: -1;}#sk-container-id-1 div.sk-parallel-item {display: flex;flex-direction: column;z-index: 1;position: relative;background-color: white;}#sk-container-id-1 div.sk-parallel-item:first-child::after {align-self: flex-end;width: 50%;}#sk-container-id-1 div.sk-parallel-item:last-child::after {align-self: flex-start;width: 50%;}#sk-container-id-1 div.sk-parallel-item:only-child::after {width: 0;}#sk-container-id-1 div.sk-dashed-wrapped {border: 1px dashed gray;margin: 0 0.4em 0.5em 0.4em;box-sizing: border-box;padding-bottom: 0.4em;background-color: white;}#sk-container-id-1 div.sk-label label {font-family: monospace;font-weight: bold;display: inline-block;line-height: 1.2em;}#sk-container-id-1 div.sk-label-container {text-align: center;}#sk-container-id-1 div.sk-container {/* jupyter's `normalize.less` sets `[hidden] { display: none; }` but bootstrap.min.css set `[hidden] { display: none !important; }` so we also need the `!important` here to be able to override the default hidden behavior on the sphinx rendered scikit-learn.org. See: https://github.com/scikit-learn/scikit-learn/issues/21755 */display: inline-block !important;position: relative;}#sk-container-id-1 div.sk-text-repr-fallback {display: none;}</style><div id=\"sk-container-id-1\" class=\"sk-top-container\"><div class=\"sk-text-repr-fallback\"><pre>SVC(kernel=&#x27;linear&#x27;)</pre><b>In a Jupyter environment, please rerun this cell to show the HTML representation or trust the notebook. <br />On GitHub, the HTML representation is unable to render, please try loading this page with nbviewer.org.</b></div><div class=\"sk-container\" hidden><div class=\"sk-item\"><div class=\"sk-estimator sk-toggleable\"><input class=\"sk-toggleable__control sk-hidden--visually\" id=\"sk-estimator-id-1\" type=\"checkbox\" checked><label for=\"sk-estimator-id-1\" class=\"sk-toggleable__label sk-toggleable__label-arrow\">SVC</label><div class=\"sk-toggleable__content\"><pre>SVC(kernel=&#x27;linear&#x27;)</pre></div></div></div></div></div>"
      ],
      "text/plain": [
       "SVC(kernel='linear')"
      ]
     },
     "execution_count": 18,
     "metadata": {},
     "output_type": "execute_result"
    }
   ],
   "source": [
    "# Train the SVM\n",
    "svm = SVC(kernel='linear')\n",
    "svm.fit(train_features_flat, np.argmax(y_train, axis=1))"
   ]
  },
  {
   "cell_type": "code",
   "execution_count": 19,
   "metadata": {},
   "outputs": [
    {
     "data": {
      "text/plain": [
       "['F:\\\\medical_images\\\\cnn-svm\\\\svm_model.pkl']"
      ]
     },
     "execution_count": 19,
     "metadata": {},
     "output_type": "execute_result"
    }
   ],
   "source": [
    "# Save the SVM model\n",
    "joblib.dump(svm, \"F:\\medical_images\\cnn-svm\\svm_model.pkl\")"
   ]
  },
  {
   "cell_type": "code",
   "execution_count": null,
   "metadata": {},
   "outputs": [],
   "source": []
  },
  {
   "cell_type": "code",
   "execution_count": 20,
   "metadata": {},
   "outputs": [
    {
     "name": "stdout",
     "output_type": "stream",
     "text": [
      "1/1 [==============================] - 0s 125ms/step\n",
      "Predicted Class Index: 2\n",
      "Predicted Class: Non_Demented\n",
      "Confidence: 3.280354309276325\n"
     ]
    }
   ],
   "source": [
    "import numpy as np\n",
    "from tensorflow.keras.preprocessing import image\n",
    "import tensorflow as tf\n",
    "import joblib\n",
    "\n",
    "# Load the trained CNN model\n",
    "cnn_model = tf.keras.models.load_model(\"F:\\medical_images\\cnn-svm\\cnn_model.h5\")\n",
    "\n",
    "# Load the feature extractor model\n",
    "feature_extractor = Model(inputs=cnn_model.input, outputs=cnn_model.layers[-2].output)\n",
    "\n",
    "# Load the SVM model\n",
    "svm = joblib.load(\"F:\\medical_images\\cnn-svm\\svm_model.pkl\")\n",
    "\n",
    "# Class names\n",
    "CLASSES = ['Mild_Demented', 'Moderate_Demented', 'Non_Demented', 'Very_Mild_Demented']\n",
    "\n",
    "# Load and preprocess the sample image\n",
    "img_path = r\"F:\\medical_images\\alzeimer\\Non_Demented\\non_41.jpg\"\n",
    "img = image.load_img(img_path, target_size=(150, 150))\n",
    "img_array = image.img_to_array(img)\n",
    "img_array = np.expand_dims(img_array, axis=0)  # Add batch dimension\n",
    "img_array /= 255.0  # Normalize pixel values to [0, 1]\n",
    "\n",
    "# Extract features\n",
    "features = feature_extractor.predict(img_array)\n",
    "features_flat = features.flatten().reshape(1, -1)\n",
    "\n",
    "# Predict with SVM\n",
    "predicted_class_index = svm.predict(features_flat)[0]\n",
    "decision_function = svm.decision_function(features_flat)\n",
    "confidence = np.max(np.abs(decision_function))  # Measure of confidence\n",
    "\n",
    "# Get the class name\n",
    "predicted_class_label = CLASSES[predicted_class_index]\n",
    "\n",
    "print(\"Predicted Class Index:\", predicted_class_index)\n",
    "print(\"Predicted Class:\", predicted_class_label)\n",
    "print(\"Confidence:\", confidence)\n"
   ]
  },
  {
   "cell_type": "code",
   "execution_count": 22,
   "metadata": {},
   "outputs": [
    {
     "name": "stdout",
     "output_type": "stream",
     "text": [
      "1/1 [==============================] - 0s 78ms/step\n",
      "Predicted Class Index: 2\n",
      "Predicted Class: Non_Demented\n",
      "Confidence: 0.9977602958679199\n"
     ]
    }
   ],
   "source": [
    "import numpy as np\n",
    "from tensorflow.keras.preprocessing import image\n",
    "import tensorflow as tf\n",
    "\n",
    "# Load the trained CNN model\n",
    "cnn_model = tf.keras.models.load_model(\"F:/medical_images/cnn-svm/cnn_model.h5\")\n",
    "\n",
    "# Define the class names\n",
    "class_names = ['Mild_Demented', 'Moderate_Demented', 'Non_Demented', 'Very_Mild_Demented']\n",
    "\n",
    "# Load and preprocess the sample image\n",
    "img_path = r\"F:\\medical_images\\alzeimer\\Non_Demented\\non_41.jpg\" # Update this with your image path\n",
    "img = image.load_img(img_path, target_size=(150, 150))\n",
    "img_array = image.img_to_array(img)\n",
    "img_array = np.expand_dims(img_array, axis=0)  # Add batch dimension\n",
    "img_array /= 255.0  # Normalize pixel values to [0, 1]\n",
    "\n",
    "# Predict the class probabilities\n",
    "predictions = cnn_model.predict(img_array)\n",
    "\n",
    "# Get the predicted class index and the confidence score\n",
    "predicted_class_index = np.argmax(predictions[0])\n",
    "confidence = predictions[0][predicted_class_index]\n",
    "\n",
    "# Print the results\n",
    "print(f\"Predicted Class Index: {predicted_class_index}\")\n",
    "print(f\"Predicted Class: {class_names[predicted_class_index]}\")\n",
    "print(f\"Confidence: {confidence}\")"
   ]
  }
 ],
 "metadata": {
  "kaggle": {
   "accelerator": "none",
   "dataSources": [
    {
     "datasetId": 2029496,
     "sourceId": 3364939,
     "sourceType": "datasetVersion"
    }
   ],
   "dockerImageVersionId": 30698,
   "isGpuEnabled": false,
   "isInternetEnabled": true,
   "language": "python",
   "sourceType": "notebook"
  },
  "kernelspec": {
   "display_name": "Python 3 (ipykernel)",
   "language": "python",
   "name": "python3"
  },
  "language_info": {
   "codemirror_mode": {
    "name": "ipython",
    "version": 3
   },
   "file_extension": ".py",
   "mimetype": "text/x-python",
   "name": "python",
   "nbconvert_exporter": "python",
   "pygments_lexer": "ipython3",
   "version": "3.10.11"
  }
 },
 "nbformat": 4,
 "nbformat_minor": 4
}
